{
 "cells": [
  {
   "cell_type": "markdown",
   "metadata": {},
   "source": [
    "# PTT 網路爬蟲實作練習\n",
    "\n",
    "\n",
    "* 能夠利用 Request + BeatifulSour 撰寫爬蟲，並存放到合適的資料結構\n"
   ]
  },
  {
   "cell_type": "markdown",
   "metadata": {},
   "source": [
    "## 作業目標\n",
    "\n",
    "根據範例 ，完成以下問題：\n",
    "\n",
    "* ① 印出最新文章的「作者」「標題」「時間」\n",
    "* ② 印出第一頁所有文章的「作者」「標題」「時間」\n"
   ]
  },
  {
   "cell_type": "markdown",
   "metadata": {},
   "source": [
    "### ① 印出最新文章的「作者」「標題」「時間」"
   ]
  },
  {
   "cell_type": "code",
   "execution_count": 1,
   "metadata": {},
   "outputs": [
    {
     "name": "stdout",
     "output_type": "stream",
     "text": [
      "[新聞] 若NBA正式復賽　美媒：接近100%將在沒球\n",
      "作者: teramars (tomorrow never knows)\n",
      "時間: Sat Mar 28 14:59:29 2020\n"
     ]
    }
   ],
   "source": [
    "import requests\n",
    "from bs4 import BeautifulSoup\n",
    "\n",
    "url = 'https://www.ptt.cc/bbs/NBA/index.html'\n",
    "r = requests.get(url)\n",
    "\n",
    "soup = BeautifulSoup(r.text, \"html5lib\")\n",
    "\n",
    "d = soup.find_all(class_=\"title\")[0]\n",
    "print(d.text.replace('\\t', '').replace('\\n', ''))\n",
    "r = BeautifulSoup(requests.get('https://www.ptt.cc'+d.find('a')['href']).text, \"html5lib\")\n",
    "print('作者: ' + r.find(class_='article-meta-value').text + '\\n時間: ' + r.select('.article-meta-value')[3].text)\n",
    "\n"
   ]
  },
  {
   "cell_type": "markdown",
   "metadata": {},
   "source": [
    "### ② 印出第一頁所有文章的「作者」「標題」「時間」"
   ]
  },
  {
   "cell_type": "code",
   "execution_count": 2,
   "metadata": {},
   "outputs": [
    {
     "name": "stdout",
     "output_type": "stream",
     "text": [
      "[新聞] 若NBA正式復賽　美媒：接近100%將在沒球\n",
      "作者: teramars (tomorrow never knows)\n",
      "時間: Sat Mar 28 14:59:29 2020\n",
      "[花邊] 格蘭特提問：誰是喬丹科比後歷史第三SG？\n",
      "作者: Teentop (Teentop)\n",
      "時間: Sat Mar 28 15:31:25 2020\n",
      "(本文已被刪除) [fukawa947]\n",
      "[花邊] 沒比賽也是得練肌力　公鹿把重訓室拆了送\n",
      "作者: fukawa947 (交大薛之謙)\n",
      "時間: Sat Mar 28 16:10:14 2020\n",
      "Re: [討論] LBJ兒子Bronny James是不是沒有老爸天賦\n",
      "作者: heatthree (熱火三)\n",
      "時間: Sat Mar 28 16:18:40 2020\n",
      "[新聞] 詹皇擁驚人記憶力：是天賦也是詛咒\n",
      "作者: Wojnarowski (@wojespn)\n",
      "時間: Sat Mar 28 17:20:34 2020\n",
      "Re: [問卷] NBA球星代言短影音關係之研究(100P+抽獎)\n",
      "作者: lad270184 ()\n",
      "時間: Sat Mar 28 18:15:48 2020\n",
      "Re: [討論] LBJ兒子Bronny James是不是沒有老爸天賦\n",
      "作者: iammatrix ()\n",
      "時間: Sat Mar 28 18:16:27 2020\n",
      "[外絮] Fizdale:球隊文化讓LBJ動不了Spoelstra\n",
      "作者: leo755269 (天才小釣手)\n",
      "時間: Sat Mar 28 18:19:48 2020\n",
      "[專欄] 真實邁阿密--Udonis Haslem\n",
      "作者: BrainDeath (One shot.)\n",
      "時間: Sat Mar 28 19:03:12 2020\n",
      "[花邊] 波爾辛吉斯選最佳五人 沒有喬丹、詹皇\n",
      "作者: thnlkj0665 (灰色地帶)\n",
      "時間: Sat Mar 28 19:39:54 2020\n",
      "[公告] 板規v6.8\n",
      "[公告] 版主上任相關事項 \n",
      "作者: qazwsx879345 (Rajon Rondo)\n",
      "時間: Fri Oct 25 10:44:03 2019\n",
      "[情報] SEASON Schedule 賽程 March 19–20\n",
      "作者: Acetoxy (阿斯)\n",
      "時間: Mon Mar  2 01:19:40 2020\n",
      "[公告] 第一次被退文，可在三天後刪除退文\n",
      "作者: Vedan (味丹)\n",
      "時間: Mon Mar  9 11:44:26 2020\n"
     ]
    }
   ],
   "source": [
    "import requests\n",
    "from bs4 import BeautifulSoup\n",
    "\n",
    "url = 'https://www.ptt.cc/bbs/NBA/index.html'\n",
    "r = requests.get(url)\n",
    "\n",
    "soup = BeautifulSoup(r.text, \"html5lib\")\n",
    "\n",
    "for d in soup.find_all(class_=\"title\"):\n",
    "    print(d.text.replace('\\t', '').replace('\\n', ''))\n",
    "    try:\n",
    "        r = BeautifulSoup(requests.get('https://www.ptt.cc'+d.find('a')['href']).text, \"html5lib\")\n",
    "        print('作者: ' + r.find(class_='article-meta-value').text + '\\n時間: ' + r.select('.article-meta-value')[3].text )\n",
    "\n",
    "    except:\n",
    "        continue"
   ]
  },
  {
   "cell_type": "markdown",
   "metadata": {},
   "source": [
    "### ③ 試著爬爬看其他版的文章"
   ]
  },
  {
   "cell_type": "code",
   "execution_count": 3,
   "metadata": {},
   "outputs": [
    {
     "name": "stdout",
     "output_type": "stream",
     "text": [
      "[閒聊] 如何營造賓至如歸的感受\n",
      "作者: pulato16 (七股哥布林)\n",
      "時間: Thu Mar 26 19:58:27 2020\n",
      "Re: [請益] 最近央行降息了，請問最新房貸利率?\n",
      "作者: pulato16 (七股哥布林)\n",
      "時間: Thu Mar 26 20:21:34 2020\n",
      "[請益]貴賓戶開發 vs 信用卡業務\n",
      "作者: k095718 (石頭)\n",
      "時間: Thu Mar 26 20:54:57 2020\n",
      "[閒聊] 銀行要怎麼保護櫃檯人員\n",
      "作者: pulato16 (七股哥布林)\n",
      "時間: Fri Mar 27 08:06:04 2020\n",
      "[閒聊] 為什麼很多人說銀行不能待了？\n",
      "作者: s49971616 ()\n",
      "時間: Fri Mar 27 12:18:48 2020\n",
      "[請益] 關於基金申請定期定額的問題\n",
      "作者: smartpoky (小豬撲滿)\n",
      "時間: Fri Mar 27 16:04:04 2020\n",
      "[請益] 國泰世華銀行 非分行職位 需要穿制服嗎？\n",
      "作者: burberrylai (nobody)\n",
      "時間: Fri Mar 27 16:56:44 2020\n",
      "[閒聊] 分行的凝聚力是建立在什麼之上\n",
      "作者: pulato16 (七股哥布林)\n",
      "時間: Fri Mar 27 18:21:21 2020\n",
      "[閒聊] 以前一輩的行員到底多有競爭力\n",
      "作者: pulato16 (七股哥布林)\n",
      "時間: Fri Mar 27 21:31:07 2020\n",
      "[請益] 代po- offer抉擇\n",
      "作者: jtf81902013 (AlisCait)\n",
      "時間: Sat Mar 28 12:11:43 2020\n",
      "[公告] 請低調徵求互辦業績\n",
      "作者: neverli (想睡)\n",
      "時間: Thu May 13 20:21:32 2010\n",
      "[公告] 銀行考試書籍請於此篇置底文集中推文！\n",
      "作者: neverli (想睡)\n",
      "時間: Mon Jul  5 23:43:55 2010\n",
      "[公告] 板規  (新增2條)\n",
      "作者: neverli (想睡)\n",
      "時間: Sun May 27 14:51:25 2018\n"
     ]
    }
   ],
   "source": [
    "import requests\n",
    "from bs4 import BeautifulSoup\n",
    "\n",
    "url = 'https://www.ptt.cc/bbs/Finance/index.html'\n",
    "r = requests.get(url)\n",
    "\n",
    "soup = BeautifulSoup(r.text, \"html5lib\")\n",
    "\n",
    "for d in soup.find_all(class_=\"title\"):\n",
    "    print(d.text.replace('\\t', '').replace('\\n', ''))\n",
    "    try:\n",
    "        r = BeautifulSoup(requests.get('https://www.ptt.cc'+d.find('a')['href']).text, \"html5lib\")\n",
    "        print('作者: ' + r.find(class_='article-meta-value').text + '\\n時間: ' + r.select('.article-meta-value')[3].text )\n",
    "\n",
    "    except:\n",
    "        continue"
   ]
  }
 ],
 "metadata": {
  "kernelspec": {
   "display_name": "Python 3",
   "language": "python",
   "name": "python3"
  },
  "language_info": {
   "codemirror_mode": {
    "name": "ipython",
    "version": 3
   },
   "file_extension": ".py",
   "mimetype": "text/x-python",
   "name": "python",
   "nbconvert_exporter": "python",
   "pygments_lexer": "ipython3",
   "version": "3.7.0"
  }
 },
 "nbformat": 4,
 "nbformat_minor": 2
}
