{
 "cells": [
  {
   "cell_type": "markdown",
   "metadata": {},
   "source": [
    "# API 資料串接 - 以 Dcard API 實作範例\n",
    "\n",
    "* 了解 Dcard API 使用方式與回傳內容\n",
    "* 撰寫程式存取 API 且解析 JSON 格式資料\n"
   ]
  },
  {
   "cell_type": "markdown",
   "metadata": {},
   "source": [
    "## 作業目標\n",
    "\n",
    "* 請利用 API: https://www.dcard.tw/_api/forums/pet/posts?popular=true 回答下列問題：\n",
    "\n",
    "1. 這個 API 一次會回傳幾筆資料？每一筆資料包含哪些欄位？\n",
    "2. 取出每一筆資料的「標題」、「貼文時間」、「留言人數」、「按讚人數」\n",
    "3. 計算熱門/非熱門文章的「平均留言人數」與「平均按讚人數」"
   ]
  },
  {
   "cell_type": "code",
   "execution_count": 5,
   "metadata": {},
   "outputs": [
    {
     "data": {
      "text/plain": [
       "30"
      ]
     },
     "execution_count": 5,
     "metadata": {},
     "output_type": "execute_result"
    }
   ],
   "source": [
    "# 1. 這個 API 一次會回傳幾筆資料？每一筆資料包含哪些欄位？\n",
    "\n",
    "import requests\n",
    "import json\n",
    "\n",
    "r = requests.get('https://www.dcard.tw/_api/forums/pet/posts?popular=true')\n",
    "r.text\n",
    "\n",
    "data = json.loads(r.text)\n",
    "\n",
    "len(data)    "
   ]
  },
  {
   "cell_type": "code",
   "execution_count": 8,
   "metadata": {},
   "outputs": [
    {
     "name": "stdout",
     "output_type": "stream",
     "text": [
      "遛貓絕對不是好點子 2020-03-02T04:38:40.592Z 48 1280\n",
      "我就爛啦喵！ 2020-03-02T04:45:11.891Z 13 457\n",
      "犬種介紹特輯1  大和戰犬 秋田~（更） 2020-03-02T15:51:36.877Z 22 81\n",
      "自帶表情包的柴柴 2020-03-02T13:38:42.074Z 3 62\n",
      "我養的是小孩子吧？ 2020-03-03T07:50:53.595Z 19 45\n",
      "你的肉肉 無所遁形！ 2020-03-02T16:15:16.770Z 0 27\n",
      "陪我一年十個月又十三天👼🏻 2020-03-02T08:05:42.046Z 2 27\n",
      "對喔! (正主出現嘍!) 2020-03-02T05:09:05.207Z 6 27\n",
      "在限動放倉鼠的萬能同學 2020-03-02T12:02:19.590Z 0 26\n",
      "紙箱控🐈 2020-03-03T06:00:53.007Z 4 20\n",
      "好壞好壞的雞🤦🤦🤦 2020-03-02T06:55:25.975Z 7 19\n",
      "協尋：如果您發現玄鳳 （新北新店） 2020-03-02T05:33:55.438Z 0 18\n",
      "黑奧斯卡 2020-03-03T10:58:00.921Z 1 17\n",
      "懇請大家協尋狗狗（鐵蛋） 2020-03-02T11:04:07.155Z 3 17\n",
      "殭屍貓長大了🌸 2020-03-03T10:00:59.433Z 9 16\n",
      "我的寵物有雙重人格？ 2020-03-03T05:24:54.154Z 3 16\n",
      "基隆柴犬襪子 當小天使了 2020-03-02T16:51:46.398Z 1 14\n",
      "粘人小鬼 2020-03-02T23:07:38.018Z 1 11\n",
      "#找到新主人了 請問有人想要領養黃金鼠的嗎？ 2020-03-02T20:07:01.931Z 6 10\n",
      "該行當雞孵蛋？ 2020-03-02T15:00:57.053Z 1 9\n",
      "犬種介紹特輯2  狗界戲精 柴犬~ 2020-03-03T11:46:27.778Z 1 8\n",
      "#分享 新屋收容所不當剪耳 2020-03-03T09:10:02.726Z 3 8\n",
      "超乖的鸚鵡 2020-03-03T10:00:35.032Z 0 7\n",
      "為啥貓老愛攻擊我的腳== 2020-03-02T04:32:40.868Z 1 7\n",
      "真的到哪都能睡😴 2020-03-03T07:08:43.091Z 1 6\n",
      "尋貓啟示 2020-03-02T05:34:06.450Z 0 6\n",
      "鼠奴的那些日子🧏🏻‍♀️ 2020-03-03T12:49:28.447Z 0 5\n",
      "我家的貓都是天使 2020-03-03T05:18:14.075Z 5 5\n",
      "協尋貓咪-明德捷運站旁失蹤 2020-03-03T03:57:52.378Z 0 5\n",
      "我家貓咪愛吃衣服 2020-03-03T05:18:16.294Z 2 4\n"
     ]
    }
   ],
   "source": [
    "# 2. 取出每一筆資料的「標題」、「貼文時間」、「留言人數」、「按讚人數」\n",
    "for d in data:\n",
    "    print(d['title'], d['createdAt'], d['commentCount'], d['likeCount'])"
   ]
  },
  {
   "cell_type": "code",
   "execution_count": 13,
   "metadata": {},
   "outputs": [
    {
     "name": "stdout",
     "output_type": "stream",
     "text": [
      "熱門文章平均留言人數： 5.433333333333334 \n",
      "熱門文章平均按讚人數： 76.03333333333333\n",
      "非熱門文章平均留言人數： 2.7666666666666666 \n",
      "非熱門文章平均按讚人數： 5.5\n"
     ]
    }
   ],
   "source": [
    "# 3. 計算熱門/非熱門文章的「平均留言人數」與「平均按讚人數」\n",
    "\n",
    "import requests\n",
    "import json\n",
    "\n",
    "r = requests.get('https://www.dcard.tw/_api/forums/pet/posts?popular=true')\n",
    "\n",
    "data = json.loads(r.text)\n",
    "comment_pop = 0\n",
    "like_pop = 0\n",
    "for d in data:\n",
    "    comment_pop += d['commentCount']\n",
    "    like_pop += d['likeCount']\n",
    "\n",
    "print(\"熱門文章平均留言人數：\", comment_pop/len(data), \"\\n熱門文章平均按讚人數：\", like_pop/len(data))\n",
    "\n",
    "r1 = requests.get('https://www.dcard.tw/_api/forums/pet/posts?popular=false')\n",
    "\n",
    "data1 = json.loads(r1.text)\n",
    "comment_un = 0\n",
    "like_un = 0\n",
    "for d in data1:\n",
    "    comment_un += d['commentCount']\n",
    "    like_un += d['likeCount']\n",
    "\n",
    "print(\"非熱門文章平均留言人數：\", comment_un/len(data1), \"\\n非熱門文章平均按讚人數：\", like_un/len(data1))"
   ]
  },
  {
   "cell_type": "code",
   "execution_count": null,
   "metadata": {},
   "outputs": [],
   "source": []
  }
 ],
 "metadata": {
  "kernelspec": {
   "display_name": "Python 3",
   "language": "python",
   "name": "python3"
  },
  "language_info": {
   "codemirror_mode": {
    "name": "ipython",
    "version": 3
   },
   "file_extension": ".py",
   "mimetype": "text/x-python",
   "name": "python",
   "nbconvert_exporter": "python",
   "pygments_lexer": "ipython3",
   "version": "3.7.0"
  }
 },
 "nbformat": 4,
 "nbformat_minor": 2
}
