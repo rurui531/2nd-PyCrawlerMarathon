{
 "cells": [
  {
   "cell_type": "markdown",
   "metadata": {},
   "source": [
    "# YAHOO電影爬蟲練習\n",
    "## 練習爬取電影放映資訊。必須逐步獲取電影的代號、放映地區、放映日期後，再送出查詢給伺服器。"
   ]
  },
  {
   "cell_type": "code",
   "execution_count": 1,
   "metadata": {},
   "outputs": [],
   "source": [
    "import requests\n",
    "import re\n",
    "from bs4 import BeautifulSoup"
   ]
  },
  {
   "cell_type": "markdown",
   "metadata": {},
   "source": [
    "### 先搜尋全部的電影代號(ID)資訊"
   ]
  },
  {
   "cell_type": "code",
   "execution_count": 2,
   "metadata": {
    "scrolled": true
   },
   "outputs": [
    {
     "name": "stdout",
     "output_type": "stream",
     "text": [
      "Movie: 東京喰種S, ID: 10562\n",
      "Movie: 我的學生都是配樂大師, ID: 10557\n",
      "Movie: 我們的家不是我們的家, ID: 10556\n",
      "Movie: 奧斯卡配樂大師：亞歷山大戴斯培, ID: 10552\n",
      "Movie: 聲入奇境：經典配樂大師, ID: 10550\n",
      "Movie: 絕命直播, ID: 10548\n",
      "Movie: 託陰2：布拉姆回來了, ID: 10540\n",
      "Movie: 迷雁返家路, ID: 10533\n",
      "Movie: 無聲救援, ID: 10521\n",
      "Movie: 鏡中驚魂, ID: 10514\n",
      "Movie: 最初的晚餐, ID: 10510\n",
      "Movie: 抓住救命稻草的野獸們, ID: 10507\n",
      "Movie: 第六感生死戀, ID: 10504\n",
      "Movie: Re從零開始的異世界生活 外傳集, ID: 10480\n",
      "Movie: 記憶屋, ID: 10470\n",
      "Movie: 我的失蹤爸爸, ID: 10546\n",
      "Movie: 不愛鋼琴師, ID: 10542\n",
      "Movie: 神之一手：鬼手篇, ID: 10520\n",
      "Movie: 囚愛之家, ID: 10515\n",
      "Movie: A+瞎妹, ID: 10508\n",
      "Movie: 搖滾師匠：細野晴臣, ID: 10502\n",
      "Movie: 最後晚安曲, ID: 10499\n",
      "Movie: 我出去醫下, ID: 10494\n",
      "Movie: 依然相信, ID: 10487\n",
      "Movie: 電影版 地獄少女, ID: 10525\n",
      "Movie: 刺激1995, ID: 10518\n",
      "Movie: 通靈少年2020, ID: 10517\n",
      "Movie: 安雅的回家路, ID: 10516\n",
      "Movie: 牆內的房客, ID: 10512\n",
      "Movie: 南山的部長們, ID: 10509\n",
      "Movie: 另類神父, ID: 10500\n",
      "Movie: 破．局, ID: 10496\n",
      "Movie: 劇場版 不起眼女主角培育法 Fine, ID: 10486\n",
      "Movie: 練愛iNG, ID: 10442\n",
      "Movie: 鋼鐵勳章, ID: 10432\n",
      "Movie: 我，最親愛的, ID: 10503\n",
      "Movie: 血衛, ID: 10469\n",
      "Movie: 導演先生的完美假期, ID: 10545\n",
      "Movie: 親愛的莎瑪, ID: 10491\n",
      "Movie: 大畫特務, ID: 10478\n",
      "Movie: 明明會說話, ID: 10440\n",
      "Movie: 艾瑪, ID: 10396\n",
      "Movie: 千日千夜, ID: 10490\n",
      "Movie: 鳴鳥不飛：烏雲密布, ID: 10458\n",
      "Movie: 哥布林殺手 劇場版, ID: 10438\n",
      "Movie: 女鬼橋, ID: 10437\n",
      "Movie: 怨咒, ID: 10421\n",
      "Movie: 極地守護犬, ID: 10383\n",
      "Movie: 叔．叔, ID: 10371\n",
      "Movie: 隱形人, ID: 10359\n",
      "Movie: 絕命大平台, ID: 10447\n",
      "Movie: 李察朱威爾事件, ID: 10368\n",
      "Movie: 音速小子, ID: 9246\n",
      "Movie: 失控少年兵團, ID: 10456\n",
      "Movie: 超＂人＂氣動物園, ID: 10445\n",
      "Movie: 全境失控, ID: 10426\n",
      "Movie: 愛情人形, ID: 10394\n",
      "Movie: 我的寶貝男孩, ID: 10489\n",
      "Movie: 猛禽小隊：小丑女大解放, ID: 10268\n",
      "Movie: 熱帶雨, ID: 10448\n",
      "Movie: 王牌辯士, ID: 10346\n",
      "Movie: 1917, ID: 10189\n",
      "Movie: 肥龍過江, ID: 10449\n",
      "Movie: 深海終劫站, ID: 10230\n",
      "Movie: 變身特務, ID: 9008\n",
      "Movie: 巧虎電影：英雄遊樂園, ID: 10429\n",
      "Movie: 不完美的正義, ID: 10243\n",
      "Movie: 星星知我心, ID: 10409\n",
      "Movie: 逃出天堂島, ID: 10384\n",
      "Movie: 別告訴她, ID: 10382\n",
      "Movie: 真愛裁會贏, ID: 10362\n",
      "Movie: CATS貓, ID: 10166\n",
      "Movie: 燃燒女子的畫像, ID: 10069\n",
      "Movie: 葉問4：完結篇, ID: 9890\n",
      "Movie: STAR WARS : 天行者的崛起, ID: 10225\n",
      "Movie: 8級警戒, ID: 10323\n",
      "Movie: 去年聖誕節, ID: 10256\n",
      "Movie: 野蠻遊戲：全面晉級, ID: 10134\n",
      "Movie: 賽道狂人, ID: 10097\n",
      "Movie: 冰雪奇緣2, ID: 9597\n",
      "Movie: 萬萬沒想到, ID: 10281\n",
      "Movie: 絕鯊47：猛鯊出籠, ID: 10214\n",
      "Movie: 失控危城, ID: 9710\n",
      "Movie: 假面飯店, ID: 9641\n",
      "Movie: 潛艦獵殺令, ID: 8828\n",
      "Movie: 在咖啡冷掉之前, ID: 8730\n",
      "Movie: 不可能的任務：全面瓦解, ID: 7767\n",
      "Movie: 侏羅紀世界：殞落國度, ID: 7550\n",
      "Movie: 一首搖滾上月球, ID: 4887\n",
      "Movie: 錢不夠用2, ID: 3026\n"
     ]
    }
   ],
   "source": [
    "# 查看目前上映那些電影，並擷取出其ID資訊\n",
    "url = 'https://movies.yahoo.com.tw/'\n",
    "resp = requests.get(url)\n",
    "resp.encoding = 'utf-8'\n",
    "\n",
    "soup = BeautifulSoup(resp.text, 'lxml')\n",
    "html = soup.find(\"select\", attrs={'name':'movie_id'})\n",
    "movie_item = html.find_all(\"option\", attrs={'data-name':re.compile('.*')})\n",
    "\n",
    "for p in movie_item:\n",
    "    print(\"Movie: %s, ID: %s\" % (p[\"data-name\"], p[\"value\"]))"
   ]
  },
  {
   "cell_type": "markdown",
   "metadata": {},
   "source": [
    "### 指定你有興趣的電影其ID，然後查詢其放映地區資訊。"
   ]
  },
  {
   "cell_type": "code",
   "execution_count": 3,
   "metadata": {},
   "outputs": [],
   "source": [
    "# 參考前一個步驟中擷取到的ID資訊，並指定ID\n",
    "movie_id = 10557"
   ]
  },
  {
   "cell_type": "code",
   "execution_count": 4,
   "metadata": {},
   "outputs": [
    {
     "name": "stdout",
     "output_type": "stream",
     "text": [
      "放映地區: 台北市, 代號(area_id): 28\n",
      "放映地區: 桃園, 代號(area_id): 16\n",
      "放映地區: 新竹, 代號(area_id): 20\n",
      "放映地區: 台中, 代號(area_id): 2\n",
      "放映地區: 台南, 代號(area_id): 10\n",
      "放映地區: 高雄, 代號(area_id): 17\n"
     ]
    }
   ],
   "source": [
    "url = 'https://movies.yahoo.com.tw/api/v1/areas_by_movie_theater'\n",
    "payload = {'movie_id':str(movie_id)}\n",
    "\n",
    "# 模擬一個header\n",
    "headers = {\n",
    "    'authority': 'movies.yahoo.com.tw',\n",
    "    'method': 'GET',\n",
    "    'path': '/api/v1/areas_by_movie_theater?movie_id=' + str(movie_id),\n",
    "    'scheme': 'https',\n",
    "    'accept': 'application/json, text/javascript, */*; q=0.01',\n",
    "    'accept-encoding': 'gzip, deflate, br',\n",
    "    'accept-language': 'zh-TW,zh;q=0.9,en-US;q=0.8,en;q=0.7,zh-CN;q=0.6',\n",
    "    'cookie': 'rxx=9s3x2fws06.1g16irnc&v=1; _ga=GA1.3.2056742944.1551651301; GUC=AQEBAQFczFpdm0IfmwSB&s=AQAAACoo4N5D&g=XMsVBw; BX=4hkdk1decm57t&b=3&s=mr; _ga=GA1.4.2056742944.1551651301; nexagesuid=82843256dd234e8e91aa73f2062f8218; browsed_movie=eyJpdiI6IlJXWWtiSWJaZlNGK2MxQnhscnVUYWc9PSIsInZhbHVlIjoiMXRhMmVHRXRIeUNjc1RBWDJzdGYwbnlIQURmWGsrcjJSMzhkbkcraDNJVUNIZEZsbzU3amlFcVZ1NzlmazJrTGpoMjVrbHk1YmpoRENXaHZTOUw1TmI2ZTZVWHdOejZQZm16RmVuMWlHTTJLaTZLVFZZVkFOMDlTd1wvSGltcytJIiwibWFjIjoiZWQ2ZjA4MmVjZmZlYjlmNjJmYmY2NGMyMDI0Njc0NWViYjVkOWE2NDg0N2RhODMxZjBjZDhiMmJhZTc2MDZhYiJ9; avi=eyJpdiI6Im1NeWFJRlVRWDR1endEcGRGUGJUbVE9PSIsInZhbHVlIjoickRpU3JuUytmcGl6cjF5OW0rNU9iZz09IiwibWFjIjoiY2VmY2NkNzZmM2NhNjY5YzlkOTcyNjE5OGEyMzU0NWYxOTdmMDRkMDY3OWNmMmZjOTMxYjc5MjI5N2Q5NGE5MiJ9; cmp=t=1559391030&j=0; _gid=GA1.4.779543841.1559391031; XSRF-TOKEN=eyJpdiI6IkhpS2hGcDRQaHlmWUJmaHdSS2Q2bHc9PSIsInZhbHVlIjoiOUVoNFk4OHI1UUZmUWRtYXhza0MyWjJSTlhlZ3RnT0VGeVJPN2JuczVRMGRFdWt2OUlsamVKeHRobFwvcHBGM0dhU3VyMXNGTHlsb2dVM2l0U1hpUGxBPT0iLCJtYWMiOiJkZWU4YzJhNjAxMTY3MzE4Y2ExNWIxYmE1ZjE1YWZlZTlhOTcyYjc4M2RlZGY4ZWNjZDYyMTA2NGYwZGViMzc2In0%3D; m_s=eyJpdiI6InpsZHZ2Tk1BZ0dxaHhETml1RjBnUXc9PSIsInZhbHVlIjoiSkNGeHUranRoXC85bDFiaDhySTJqNkJRcWdjWUxjeVRJSHVYZ1wvd2d4bWJZUTUrSHVDM0lUcW5KNHdETFZ4T1lieU81OUhzc1VoUXhZcWk0UDZSQXVFdz09IiwibWFjIjoiYmJkMDJkMDhlODIzMzcyMWY4M2NmYWNjNGVlOWRjMDIwZmVmNzAyMjE3Yzg3ZGY3ODBkZWEzZTI4MTI5ZWNmOSJ9; _gat=1; nexagesd=10',\n",
    "    'dnt': '1',\n",
    "    'mv-authorization': '21835b082e15b91a69b3851eec7b31b82ce82afb',\n",
    "    'referer': 'https://movies.yahoo.com.tw/',\n",
    "    'user-agent': 'Mozilla/5.0 (Windows NT 10.0; Win64; x64) AppleWebKit/537.36 (KHTML, like Gecko) Chrome/74.0.3729.169 Safari/537.36',\n",
    "    'x-requested-with': 'XMLHttpRequest',\n",
    "}\n",
    "    \n",
    "resp = requests.get(url, params=payload, headers=headers)\n",
    "#print(resp.json())  # 若有需要，列印出json原始碼\n",
    "\n",
    "# 這裡回傳的格式是JSON格式的資料，要解析JSON擷取資料\n",
    "for p in resp.json():\n",
    "    print('放映地區: {0}, 代號(area_id): {1}'.format(p['title'], p['area_id']))"
   ]
  },
  {
   "cell_type": "markdown",
   "metadata": {},
   "source": [
    "### 指定你想要觀看的放映地區，查詢有上映電影的場次日期"
   ]
  },
  {
   "cell_type": "code",
   "execution_count": 5,
   "metadata": {},
   "outputs": [],
   "source": [
    "# 指定放映地區\n",
    "area_id = 28"
   ]
  },
  {
   "cell_type": "code",
   "execution_count": 6,
   "metadata": {},
   "outputs": [
    {
     "name": "stdout",
     "output_type": "stream",
     "text": [
      "三月 28\n",
      "三月 29\n",
      "三月 30\n",
      "三月 31\n",
      "四月 1\n"
     ]
    }
   ],
   "source": [
    "# 向網站發送請求\n",
    "url = 'https://movies.yahoo.com.tw/movietime_result.html'\n",
    "payload = {'movie_id':str(movie_id), 'area_id':str(area_id)}\n",
    "resp = requests.get(url, params=payload)\n",
    "resp.encoding = 'utf-8'\n",
    "\n",
    "soup = BeautifulSoup(resp.text, 'lxml')\n",
    "movie_date = soup.find_all(\"label\", attrs={'for':re.compile(\"date_[\\d]\")})\n",
    "\n",
    "# 列印播放日期\n",
    "for date in movie_date:\n",
    "    print(\"%s %s\" % (date.p.string, date.h3.string))"
   ]
  },
  {
   "cell_type": "markdown",
   "metadata": {},
   "source": [
    "### 最後指定觀看的日期，查詢並列印出放映的電影院、放映類型(數位、3D、IMAX 3D...)、放映時間等資訊。"
   ]
  },
  {
   "cell_type": "code",
   "execution_count": 7,
   "metadata": {},
   "outputs": [],
   "source": [
    "# 選定要觀看的日期\n",
    "date = \"2020-03-30\""
   ]
  },
  {
   "cell_type": "code",
   "execution_count": 8,
   "metadata": {},
   "outputs": [],
   "source": [
    "# 向網站發送請求，獲取上映的電影院及時間資訊\n",
    "url = \"https://movies.yahoo.com.tw/ajax/pc/get_schedule_by_movie\"\n",
    "payload = {'movie_id':str(movie_id),\n",
    "           'date':date,\n",
    "           'area_id':str(area_id),\n",
    "           'theater_id':'',\n",
    "           'datetime':'',\n",
    "           'movie_type_id':''}\n",
    "\n",
    "resp = requests.get(url, params=payload)\n",
    "#print(resp.json()['view'])  # 若有需要，列印出json原始碼\n",
    "\n",
    "soup = BeautifulSoup(resp.json()['view'], 'lxml')\n",
    "html = soup.find_all(\"ul\", attrs={'data-theater_name':re.compile(\".*\")})"
   ]
  },
  {
   "cell_type": "code",
   "execution_count": 9,
   "metadata": {},
   "outputs": [
    {
     "name": "stdout",
     "output_type": "stream",
     "text": [
      "----------------------------------------------------------------------\n",
      "電影名稱： 台北信義威秀影城\n",
      "影片放映類型： 數位\n",
      "時間表：\n",
      "11:00\n",
      "15:00\n",
      "19:00\n",
      "----------------------------------------------------------------------\n",
      "電影名稱： 喜樂時代影城南港店\n",
      "影片放映類型： 數位\n",
      "時間表：\n",
      "11:00\n",
      "15:10\n",
      "19:00\n",
      "20:55\n",
      "22:45\n"
     ]
    }
   ],
   "source": [
    "for p in html:\n",
    "    print(\"----------------------------------------------------------------------\")\n",
    "    movie_name = p.find(class_='adds')\n",
    "    print(\"電影名稱：\", movie_name.a.string)\n",
    "    movie_type = p.find('span',class_='tapR').get_text()\n",
    "    print(\"影片放映類型：\", movie_type)\n",
    "    mt = p.find_all('label',class_='select')\n",
    "    print(\"時間表：\")\n",
    "    for i in mt:\n",
    "        movie_time = i.get_text()\n",
    "        print(movie_time)\n"
   ]
  },
  {
   "cell_type": "code",
   "execution_count": null,
   "metadata": {},
   "outputs": [],
   "source": []
  }
 ],
 "metadata": {
  "kernelspec": {
   "display_name": "Python 3",
   "language": "python",
   "name": "python3"
  },
  "language_info": {
   "codemirror_mode": {
    "name": "ipython",
    "version": 3
   },
   "file_extension": ".py",
   "mimetype": "text/x-python",
   "name": "python",
   "nbconvert_exporter": "python",
   "pygments_lexer": "ipython3",
   "version": "3.7.0"
  }
 },
 "nbformat": 4,
 "nbformat_minor": 2
}
